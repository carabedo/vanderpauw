{
 "cells": [
  {
   "cell_type": "code",
   "execution_count": 1,
   "id": "20bcb649",
   "metadata": {},
   "outputs": [],
   "source": [
    "import pandas as pd\n",
    "import numpy as np\n",
    "from scipy.optimize import fmin\n",
    "\n",
    "\n",
    "def fvanderpauw(RA,RB,RS):\n",
    "    return (np.exp(-np.pi*RA/RS)+np.exp(-np.pi*RB/RS)-1)**2\n",
    "\n",
    "def VanderpauwS(RA,RB,esp):\n",
    "    x0=np.pi*(RA+RB)/(np.log(2)*2);\n",
    "    Rs=fmin(lambda x: fvanderpauw(RA,RB,x),x0,disp=False)\n",
    "    RO = Rs*esp\n",
    "    return 1/RO\n"
   ]
  },
  {
   "cell_type": "code",
   "execution_count": 2,
   "id": "fbd1b8da",
   "metadata": {},
   "outputs": [],
   "source": [
    "data=pd.read_csv('vander_nfne.csv')"
   ]
  },
  {
   "cell_type": "code",
   "execution_count": 3,
   "id": "212a8b68",
   "metadata": {},
   "outputs": [
    {
     "data": {
      "text/html": [
       "<div>\n",
       "<style scoped>\n",
       "    .dataframe tbody tr th:only-of-type {\n",
       "        vertical-align: middle;\n",
       "    }\n",
       "\n",
       "    .dataframe tbody tr th {\n",
       "        vertical-align: top;\n",
       "    }\n",
       "\n",
       "    .dataframe thead th {\n",
       "        text-align: right;\n",
       "    }\n",
       "</style>\n",
       "<table border=\"1\" class=\"dataframe\">\n",
       "  <thead>\n",
       "    <tr style=\"text-align: right;\">\n",
       "      <th></th>\n",
       "      <th>v</th>\n",
       "      <th>uv</th>\n",
       "      <th>esp</th>\n",
       "      <th>muestra</th>\n",
       "    </tr>\n",
       "  </thead>\n",
       "  <tbody>\n",
       "    <tr>\n",
       "      <th>0</th>\n",
       "      <td>-0.000073</td>\n",
       "      <td>1.860000e-07</td>\n",
       "      <td>0.0012</td>\n",
       "      <td>1</td>\n",
       "    </tr>\n",
       "    <tr>\n",
       "      <th>1</th>\n",
       "      <td>0.000069</td>\n",
       "      <td>1.620000e-08</td>\n",
       "      <td>0.0012</td>\n",
       "      <td>1</td>\n",
       "    </tr>\n",
       "    <tr>\n",
       "      <th>2</th>\n",
       "      <td>-0.000552</td>\n",
       "      <td>1.270000e-06</td>\n",
       "      <td>0.0012</td>\n",
       "      <td>1</td>\n",
       "    </tr>\n",
       "    <tr>\n",
       "      <th>3</th>\n",
       "      <td>0.000596</td>\n",
       "      <td>1.140000e-07</td>\n",
       "      <td>0.0012</td>\n",
       "      <td>1</td>\n",
       "    </tr>\n",
       "    <tr>\n",
       "      <th>4</th>\n",
       "      <td>-0.000100</td>\n",
       "      <td>4.700000e-07</td>\n",
       "      <td>0.0012</td>\n",
       "      <td>1</td>\n",
       "    </tr>\n",
       "    <tr>\n",
       "      <th>5</th>\n",
       "      <td>0.000066</td>\n",
       "      <td>1.860000e-07</td>\n",
       "      <td>0.0012</td>\n",
       "      <td>1</td>\n",
       "    </tr>\n",
       "    <tr>\n",
       "      <th>6</th>\n",
       "      <td>-0.000045</td>\n",
       "      <td>8.840000e-07</td>\n",
       "      <td>0.0012</td>\n",
       "      <td>2</td>\n",
       "    </tr>\n",
       "    <tr>\n",
       "      <th>7</th>\n",
       "      <td>0.000085</td>\n",
       "      <td>2.140000e-07</td>\n",
       "      <td>0.0012</td>\n",
       "      <td>2</td>\n",
       "    </tr>\n",
       "    <tr>\n",
       "      <th>8</th>\n",
       "      <td>-0.000582</td>\n",
       "      <td>1.280000e-06</td>\n",
       "      <td>0.0012</td>\n",
       "      <td>2</td>\n",
       "    </tr>\n",
       "    <tr>\n",
       "      <th>9</th>\n",
       "      <td>0.000612</td>\n",
       "      <td>1.560000e-07</td>\n",
       "      <td>0.0012</td>\n",
       "      <td>2</td>\n",
       "    </tr>\n",
       "    <tr>\n",
       "      <th>10</th>\n",
       "      <td>-0.000108</td>\n",
       "      <td>7.170000e-07</td>\n",
       "      <td>0.0012</td>\n",
       "      <td>2</td>\n",
       "    </tr>\n",
       "    <tr>\n",
       "      <th>11</th>\n",
       "      <td>0.000057</td>\n",
       "      <td>4.860000e-07</td>\n",
       "      <td>0.0012</td>\n",
       "      <td>2</td>\n",
       "    </tr>\n",
       "  </tbody>\n",
       "</table>\n",
       "</div>"
      ],
      "text/plain": [
       "           v            uv     esp  muestra\n",
       "0  -0.000073  1.860000e-07  0.0012        1\n",
       "1   0.000069  1.620000e-08  0.0012        1\n",
       "2  -0.000552  1.270000e-06  0.0012        1\n",
       "3   0.000596  1.140000e-07  0.0012        1\n",
       "4  -0.000100  4.700000e-07  0.0012        1\n",
       "5   0.000066  1.860000e-07  0.0012        1\n",
       "6  -0.000045  8.840000e-07  0.0012        2\n",
       "7   0.000085  2.140000e-07  0.0012        2\n",
       "8  -0.000582  1.280000e-06  0.0012        2\n",
       "9   0.000612  1.560000e-07  0.0012        2\n",
       "10 -0.000108  7.170000e-07  0.0012        2\n",
       "11  0.000057  4.860000e-07  0.0012        2"
      ]
     },
     "execution_count": 3,
     "metadata": {},
     "output_type": "execute_result"
    }
   ],
   "source": [
    "data"
   ]
  },
  {
   "cell_type": "code",
   "execution_count": 4,
   "id": "43bbbf59",
   "metadata": {},
   "outputs": [],
   "source": [
    "n=int(data.shape[0])\n",
    "i=11\n",
    "c=data.v.values.reshape([int(n/12*2),6])\n",
    "c=np.abs(c)\n",
    "esp=data.esp.values.reshape([int(n/12*2),6])\n",
    "ra=(c[:,0]+c[:,1])/(2*i)\n",
    "rb=(c[:,2]+c[:,3])/(2*i)\n",
    "rap=(c[:,4]+c[:,5])/(2*i)\n",
    "sigma1=[]\n",
    "sigma2=[]\n",
    "for i,x in enumerate(ra):\n",
    "    sigma1.append(VanderpauwS(ra[i],rb[i],esp[i,0]))\n",
    "    sigma2.append(VanderpauwS(rap[i],rb[i],esp[i,0]))\n"
   ]
  },
  {
   "cell_type": "code",
   "execution_count": 5,
   "id": "01050a71",
   "metadata": {},
   "outputs": [],
   "source": [
    "sigmas=(np.array(sigma1) + np.array(sigma2))/2"
   ]
  },
  {
   "cell_type": "code",
   "execution_count": 6,
   "id": "2d1c8f98",
   "metadata": {},
   "outputs": [
    {
     "data": {
      "text/plain": [
       "array([[8297668.90391539],\n",
       "       [8117336.62397996]])"
      ]
     },
     "execution_count": 6,
     "metadata": {},
     "output_type": "execute_result"
    }
   ],
   "source": [
    "sigmas"
   ]
  },
  {
   "cell_type": "code",
   "execution_count": 8,
   "id": "160f0c97",
   "metadata": {},
   "outputs": [
    {
     "data": {
      "text/plain": [
       "8.207502763947675"
      ]
     },
     "execution_count": 8,
     "metadata": {},
     "output_type": "execute_result"
    }
   ],
   "source": [
    "sigmas.mean()/1e6"
   ]
  },
  {
   "cell_type": "code",
   "execution_count": 11,
   "id": "482b16a6",
   "metadata": {},
   "outputs": [
    {
     "data": {
      "text/html": [
       "<div>\n",
       "<style scoped>\n",
       "    .dataframe tbody tr th:only-of-type {\n",
       "        vertical-align: middle;\n",
       "    }\n",
       "\n",
       "    .dataframe tbody tr th {\n",
       "        vertical-align: top;\n",
       "    }\n",
       "\n",
       "    .dataframe thead th {\n",
       "        text-align: right;\n",
       "    }\n",
       "</style>\n",
       "<table border=\"1\" class=\"dataframe\">\n",
       "  <thead>\n",
       "    <tr style=\"text-align: right;\">\n",
       "      <th></th>\n",
       "      <th>0</th>\n",
       "    </tr>\n",
       "  </thead>\n",
       "  <tbody>\n",
       "    <tr>\n",
       "      <th>0</th>\n",
       "      <td>8.297669e+06</td>\n",
       "    </tr>\n",
       "    <tr>\n",
       "      <th>1</th>\n",
       "      <td>8.117337e+06</td>\n",
       "    </tr>\n",
       "  </tbody>\n",
       "</table>\n",
       "</div>"
      ],
      "text/plain": [
       "              0\n",
       "0  8.297669e+06\n",
       "1  8.117337e+06"
      ]
     },
     "execution_count": 11,
     "metadata": {},
     "output_type": "execute_result"
    }
   ],
   "source": [
    "pd.DataFrame(sigmas)"
   ]
  }
 ],
 "metadata": {
  "kernelspec": {
   "display_name": "Python 3 (ipykernel)",
   "language": "python",
   "name": "python3"
  },
  "language_info": {
   "codemirror_mode": {
    "name": "ipython",
    "version": 3
   },
   "file_extension": ".py",
   "mimetype": "text/x-python",
   "name": "python",
   "nbconvert_exporter": "python",
   "pygments_lexer": "ipython3",
   "version": "3.11.3"
  }
 },
 "nbformat": 4,
 "nbformat_minor": 5
}
